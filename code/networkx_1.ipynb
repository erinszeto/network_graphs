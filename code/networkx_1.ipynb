{
 "metadata": {
  "language_info": {
   "codemirror_mode": {
    "name": "ipython",
    "version": 3
   },
   "file_extension": ".py",
   "mimetype": "text/x-python",
   "name": "python",
   "nbconvert_exporter": "python",
   "pygments_lexer": "ipython3",
   "version": "3.7.7-final"
  },
  "orig_nbformat": 2,
  "kernelspec": {
   "name": "Python 3.7.7 64-bit ('dsci551-project': conda)",
   "display_name": "Python 3.7.7 64-bit ('dsci551-project': conda)",
   "metadata": {
    "interpreter": {
     "hash": "5a2503145a21db4fe91d12e9e0a2402757cd496396d0ea56a72b27a4c8fc32fe"
    }
   }
  }
 },
 "nbformat": 4,
 "nbformat_minor": 2,
 "cells": [
  {
   "cell_type": "code",
   "execution_count": 3,
   "metadata": {},
   "outputs": [],
   "source": [
    "import pandas as pd \n",
    "import numpy as np\n",
    "from functools import partial, reduce\n",
    "import networkx as nx \n",
    "import glob \n",
    "import os\n",
    "import itertools as it"
   ]
  },
  {
   "cell_type": "code",
   "execution_count": 4,
   "metadata": {},
   "outputs": [],
   "source": [
    "path = r\"C:\\Users\\erica\\OneDrive - University of Southern California\\Projects_at_USC\\CKIDS_Fa2020_Social_Graph_Analysis\\code\\data\"\n",
    "\n",
    "all_files = glob.glob(os.path.join(path, \"*.csv\"))  "
   ]
  },
  {
   "source": [
    "## Read all CSV files in `data` folder into Pandas df"
   ],
   "cell_type": "markdown",
   "metadata": {}
  },
  {
   "cell_type": "code",
   "execution_count": 5,
   "metadata": {},
   "outputs": [
    {
     "output_type": "stream",
     "name": "stdout",
     "text": [
      "Processing 3 repos data:\n\nmicroweber\nnvm-windows\nreact-admin\n"
     ]
    }
   ],
   "source": [
    "df_list = []\n",
    "\n",
    "print(f\"Processing {len(all_files)} repos data:\\n\")\n",
    "\n",
    "for f in all_files:\n",
    "    path_list = f.split(\"\\\\\")\n",
    "    f_name = path_list[-1]\n",
    "    f_name2 = f_name.split(\"stargazers_\")[1]\n",
    "    repo_name = f_name2.split(\".csv\")[0] \n",
    "    print(repo_name) \n",
    "    df_from_file = pd.read_csv(f)\n",
    "    df_from_file['repo_name'] = repo_name\n",
    "    df_list.append(df_from_file)"
   ]
  },
  {
   "cell_type": "code",
   "execution_count": 6,
   "metadata": {},
   "outputs": [
    {
     "output_type": "stream",
     "name": "stdout",
     "text": [
      "(18692, 13)\n"
     ]
    },
    {
     "output_type": "execute_result",
     "data": {
      "text/plain": [
       "    username              name                       blog             company  \\\n",
       "0      skopp     Rashaad Essop     http://skopp.skuda.net               SKUDA   \n",
       "1     doolab     Marcel Berger          https://doolab.io       @sharenowTech   \n",
       "2  Xeoncross  David Pennington  http://davidpennington.me  News & Advertising   \n",
       "\n",
       "                                                 bio  \\\n",
       "0                                                NaN   \n",
       "1                                                NaN   \n",
       "2  Full stack Go, Typescript, and Python develope...   \n",
       "\n",
       "                     location  \\\n",
       "0  Johannesburg, South Africa   \n",
       "1             Berlin, Germany   \n",
       "2               Dallas, Texas   \n",
       "\n",
       "                                          avatar_url  hireable  num_followers  \\\n",
       "0  https://avatars0.githubusercontent.com/u/16529...      True             86   \n",
       "1  https://avatars0.githubusercontent.com/u/15897...      True             16   \n",
       "2  https://avatars0.githubusercontent.com/u/56460...     False            459   \n",
       "\n",
       "   num_following           created_at            star_time   repo_name  \n",
       "0            531  2012-04-17 13:35:23  2013-06-10 10:16:13  microweber  \n",
       "1             28  2012-03-30 03:14:39  2013-06-24 04:27:40  microweber  \n",
       "2             63  2009-02-20 18:18:44  2013-07-18 16:46:29  microweber  "
      ],
      "text/html": "<div>\n<style scoped>\n    .dataframe tbody tr th:only-of-type {\n        vertical-align: middle;\n    }\n\n    .dataframe tbody tr th {\n        vertical-align: top;\n    }\n\n    .dataframe thead th {\n        text-align: right;\n    }\n</style>\n<table border=\"1\" class=\"dataframe\">\n  <thead>\n    <tr style=\"text-align: right;\">\n      <th></th>\n      <th>username</th>\n      <th>name</th>\n      <th>blog</th>\n      <th>company</th>\n      <th>bio</th>\n      <th>location</th>\n      <th>avatar_url</th>\n      <th>hireable</th>\n      <th>num_followers</th>\n      <th>num_following</th>\n      <th>created_at</th>\n      <th>star_time</th>\n      <th>repo_name</th>\n    </tr>\n  </thead>\n  <tbody>\n    <tr>\n      <th>0</th>\n      <td>skopp</td>\n      <td>Rashaad Essop</td>\n      <td>http://skopp.skuda.net</td>\n      <td>SKUDA</td>\n      <td>NaN</td>\n      <td>Johannesburg, South Africa</td>\n      <td>https://avatars0.githubusercontent.com/u/16529...</td>\n      <td>True</td>\n      <td>86</td>\n      <td>531</td>\n      <td>2012-04-17 13:35:23</td>\n      <td>2013-06-10 10:16:13</td>\n      <td>microweber</td>\n    </tr>\n    <tr>\n      <th>1</th>\n      <td>doolab</td>\n      <td>Marcel Berger</td>\n      <td>https://doolab.io</td>\n      <td>@sharenowTech</td>\n      <td>NaN</td>\n      <td>Berlin, Germany</td>\n      <td>https://avatars0.githubusercontent.com/u/15897...</td>\n      <td>True</td>\n      <td>16</td>\n      <td>28</td>\n      <td>2012-03-30 03:14:39</td>\n      <td>2013-06-24 04:27:40</td>\n      <td>microweber</td>\n    </tr>\n    <tr>\n      <th>2</th>\n      <td>Xeoncross</td>\n      <td>David Pennington</td>\n      <td>http://davidpennington.me</td>\n      <td>News &amp; Advertising</td>\n      <td>Full stack Go, Typescript, and Python develope...</td>\n      <td>Dallas, Texas</td>\n      <td>https://avatars0.githubusercontent.com/u/56460...</td>\n      <td>False</td>\n      <td>459</td>\n      <td>63</td>\n      <td>2009-02-20 18:18:44</td>\n      <td>2013-07-18 16:46:29</td>\n      <td>microweber</td>\n    </tr>\n  </tbody>\n</table>\n</div>"
     },
     "metadata": {},
     "execution_count": 6
    }
   ],
   "source": [
    "df_concat = pd.concat(df_list, ignore_index=True)\n",
    "print(df_concat.shape)\n",
    "df_concat.head(3)"
   ]
  },
  {
   "cell_type": "code",
   "execution_count": 7,
   "metadata": {},
   "outputs": [
    {
     "output_type": "stream",
     "name": "stdout",
     "text": [
      "(18692, 2)\n"
     ]
    }
   ],
   "source": [
    "## subset of just user names and repo names\n",
    "df_names = df_concat[['username','repo_name']]\n",
    "print(df_names.shape)"
   ]
  },
  {
   "cell_type": "code",
   "execution_count": 8,
   "metadata": {},
   "outputs": [
    {
     "output_type": "execute_result",
     "data": {
      "text/plain": [
       "    username   repo_name\n",
       "0      skopp  microweber\n",
       "1     doolab  microweber\n",
       "2  Xeoncross  microweber"
      ],
      "text/html": "<div>\n<style scoped>\n    .dataframe tbody tr th:only-of-type {\n        vertical-align: middle;\n    }\n\n    .dataframe tbody tr th {\n        vertical-align: top;\n    }\n\n    .dataframe thead th {\n        text-align: right;\n    }\n</style>\n<table border=\"1\" class=\"dataframe\">\n  <thead>\n    <tr style=\"text-align: right;\">\n      <th></th>\n      <th>username</th>\n      <th>repo_name</th>\n    </tr>\n  </thead>\n  <tbody>\n    <tr>\n      <th>0</th>\n      <td>skopp</td>\n      <td>microweber</td>\n    </tr>\n    <tr>\n      <th>1</th>\n      <td>doolab</td>\n      <td>microweber</td>\n    </tr>\n    <tr>\n      <th>2</th>\n      <td>Xeoncross</td>\n      <td>microweber</td>\n    </tr>\n  </tbody>\n</table>\n</div>"
     },
     "metadata": {},
     "execution_count": 8
    }
   ],
   "source": [
    "df_names.head(3)"
   ]
  },
  {
   "cell_type": "code",
   "execution_count": 9,
   "metadata": {},
   "outputs": [],
   "source": [
    "# # how many users starred each repo?\n",
    "# df_names.groupby('repo_name')['username'].count()"
   ]
  },
  {
   "source": [
    "# Format the data"
   ],
   "cell_type": "markdown",
   "metadata": {}
  },
  {
   "cell_type": "code",
   "execution_count": 11,
   "metadata": {},
   "outputs": [
    {
     "output_type": "stream",
     "name": "stdout",
     "text": [
      "(579, 2)\n"
     ]
    },
    {
     "output_type": "execute_result",
     "data": {
      "text/plain": [
       "            username   repo_name\n",
       "28          mattonik  microweber\n",
       "34          thevasya  microweber\n",
       "35  boris-chervenkov  microweber"
      ],
      "text/html": "<div>\n<style scoped>\n    .dataframe tbody tr th:only-of-type {\n        vertical-align: middle;\n    }\n\n    .dataframe tbody tr th {\n        vertical-align: top;\n    }\n\n    .dataframe thead th {\n        text-align: right;\n    }\n</style>\n<table border=\"1\" class=\"dataframe\">\n  <thead>\n    <tr style=\"text-align: right;\">\n      <th></th>\n      <th>username</th>\n      <th>repo_name</th>\n    </tr>\n  </thead>\n  <tbody>\n    <tr>\n      <th>28</th>\n      <td>mattonik</td>\n      <td>microweber</td>\n    </tr>\n    <tr>\n      <th>34</th>\n      <td>thevasya</td>\n      <td>microweber</td>\n    </tr>\n    <tr>\n      <th>35</th>\n      <td>boris-chervenkov</td>\n      <td>microweber</td>\n    </tr>\n  </tbody>\n</table>\n</div>"
     },
     "metadata": {},
     "execution_count": 11
    }
   ],
   "source": [
    "## drop all usernames which are NOT duplicates (e.g. they only starred one repo)\n",
    "df = df_names[df_names.duplicated(subset='username', keep=False)]\n",
    "print(df.shape)\n",
    "df.head(3)"
   ]
  },
  {
   "source": [],
   "cell_type": "markdown",
   "metadata": {}
  },
  {
   "source": [
    "# First Graph: Both Repos and Users as nodes\n",
    "Two types of nodes (representing repos and users). Users are connected to repos that they starred."
   ],
   "cell_type": "markdown",
   "metadata": {}
  },
  {
   "cell_type": "code",
   "execution_count": 13,
   "metadata": {},
   "outputs": [
    {
     "output_type": "execute_result",
     "data": {
      "text/plain": [
       "               source       target\n",
       "0            mattonik   microweber\n",
       "1            thevasya   microweber\n",
       "2    boris-chervenkov   microweber\n",
       "3              kublaj   microweber\n",
       "4                 k8n   microweber\n",
       "..                ...          ...\n",
       "574       skadimoolam  react-admin\n",
       "575           mofelee  react-admin\n",
       "576            dahoba  react-admin\n",
       "577       AnotherGenZ  react-admin\n",
       "578        xiaoping0x  react-admin\n",
       "\n",
       "[579 rows x 2 columns]"
      ],
      "text/html": "<div>\n<style scoped>\n    .dataframe tbody tr th:only-of-type {\n        vertical-align: middle;\n    }\n\n    .dataframe tbody tr th {\n        vertical-align: top;\n    }\n\n    .dataframe thead th {\n        text-align: right;\n    }\n</style>\n<table border=\"1\" class=\"dataframe\">\n  <thead>\n    <tr style=\"text-align: right;\">\n      <th></th>\n      <th>source</th>\n      <th>target</th>\n    </tr>\n  </thead>\n  <tbody>\n    <tr>\n      <th>0</th>\n      <td>mattonik</td>\n      <td>microweber</td>\n    </tr>\n    <tr>\n      <th>1</th>\n      <td>thevasya</td>\n      <td>microweber</td>\n    </tr>\n    <tr>\n      <th>2</th>\n      <td>boris-chervenkov</td>\n      <td>microweber</td>\n    </tr>\n    <tr>\n      <th>3</th>\n      <td>kublaj</td>\n      <td>microweber</td>\n    </tr>\n    <tr>\n      <th>4</th>\n      <td>k8n</td>\n      <td>microweber</td>\n    </tr>\n    <tr>\n      <th>...</th>\n      <td>...</td>\n      <td>...</td>\n    </tr>\n    <tr>\n      <th>574</th>\n      <td>skadimoolam</td>\n      <td>react-admin</td>\n    </tr>\n    <tr>\n      <th>575</th>\n      <td>mofelee</td>\n      <td>react-admin</td>\n    </tr>\n    <tr>\n      <th>576</th>\n      <td>dahoba</td>\n      <td>react-admin</td>\n    </tr>\n    <tr>\n      <th>577</th>\n      <td>AnotherGenZ</td>\n      <td>react-admin</td>\n    </tr>\n    <tr>\n      <th>578</th>\n      <td>xiaoping0x</td>\n      <td>react-admin</td>\n    </tr>\n  </tbody>\n</table>\n<p>579 rows × 2 columns</p>\n</div>"
     },
     "metadata": {},
     "execution_count": 13
    }
   ],
   "source": [
    "edge_df = df.copy().reset_index(drop=True)\n",
    "edge_df.columns = ['source', 'target']\n",
    "edge_df"
   ]
  },
  {
   "cell_type": "code",
   "execution_count": 14,
   "metadata": {},
   "outputs": [
    {
     "output_type": "stream",
     "name": "stdout",
     "text": [
      "Name: \nType: Graph\nNumber of nodes: 290\nNumber of edges: 579\nAverage degree:   3.9931\n"
     ]
    }
   ],
   "source": [
    "## create networkx graph\n",
    "G = nx.from_pandas_edgelist(edge_df)\n",
    "\n",
    "print(nx.info(G))\n",
    "## num nodes = # repos + # users\n",
    "## num edges = # stars"
   ]
  },
  {
   "cell_type": "code",
   "execution_count": null,
   "metadata": {},
   "outputs": [],
   "source": [
    "## Export to .gexf file (readable by Gephi)\n",
    "nx.write_gexf(G, 'repos_users_data.gexf')"
   ]
  },
  {
   "source": [
    "# Second Graph: User-to-User graph\n",
    "Only users have nodes. Users should be connected to other users, based on if they starred the same repo. Ideally, edge weight is determined by how many common starred repos each pair fo users have."
   ],
   "cell_type": "markdown",
   "metadata": {}
  },
  {
   "source": [
    "### Creating Edge List"
   ],
   "cell_type": "markdown",
   "metadata": {}
  },
  {
   "cell_type": "code",
   "execution_count": null,
   "metadata": {},
   "outputs": [],
   "source": [
    "# TODO: Create Edge List"
   ]
  },
  {
   "cell_type": "code",
   "execution_count": 16,
   "metadata": {},
   "outputs": [
    {
     "output_type": "stream",
     "name": "stdout",
     "text": [
      "(3,)\n"
     ]
    },
    {
     "output_type": "execute_result",
     "data": {
      "text/plain": [
       "repo_name\n",
       "microweber     [(mattonik, thevasya), (mattonik, boris-cherve...\n",
       "nvm-windows    [(vvasilev-, savage69kr), (vvasilev-, sjonner)...\n",
       "react-admin    [(Vishal-Isharani, lucasbento), (Vishal-Ishara...\n",
       "Name: username, dtype: object"
      ]
     },
     "metadata": {},
     "execution_count": 16
    }
   ],
   "source": [
    "## Only gives within-repo user connections, and duplicate connections (e.g. (user-a, user-b) and (user-b, user-a) both in the lists)\n",
    "\n",
    "# df1 = df.groupby('repo_name')['username'].apply(lambda x : list(it.combinations(x,2)))  \n",
    "# print(df1.shape)\n",
    "# df1.head()"
   ]
  },
  {
   "cell_type": "code",
   "execution_count": null,
   "metadata": {},
   "outputs": [],
   "source": [
    "s## both df 1 and df2 stargazers\n",
    "set1 = set(df_list[0]['username'].reset_index(drop=True))\n",
    "set2 = set(df_list[1]['username'].reset_index(drop=True))\n",
    "set3 = set(df_list[2]['username'].reset_index(drop=True))\n",
    "\n",
    "df1_df2 = set1 & set2\n",
    "df1_df3 = set1 & set3\n",
    "df2_df3 = set2 & set3\n",
    "all_three = set1 & set2 & set3"
   ]
  },
  {
   "cell_type": "code",
   "execution_count": null,
   "metadata": {},
   "outputs": [],
   "source": [
    "## Two repos' overlap\n",
    "\n",
    "edge_list = []\n",
    "\n",
    "for u,v in it.combinations(df1_df2,2):\n",
    "    edge_list.append((u,v))\n",
    "\n",
    "for u,v in it.combinations(df1_df3,2):\n",
    "    edge_list.append((u,v))\n",
    "\n",
    "for u,v in it.combinations(df2_df3,2):\n",
    "    edge_list.append((u,v))\n",
    "\n",
    "## Three repos' overlap\n",
    "for u,v in it.combinations(all_three,2):\n",
    "    edge_list.append((u,v))\n",
    "\n",
    "pairs = set(tuple(sorted(t)) for t in edge_list)\n"
   ]
  },
  {
   "cell_type": "code",
   "execution_count": null,
   "metadata": {},
   "outputs": [],
   "source": []
  },
  {
   "cell_type": "code",
   "execution_count": null,
   "metadata": {},
   "outputs": [],
   "source": []
  }
 ]
}